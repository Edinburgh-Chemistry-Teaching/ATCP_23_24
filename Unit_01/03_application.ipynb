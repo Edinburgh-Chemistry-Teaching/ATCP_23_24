{
 "cells": [
  {
   "cell_type": "markdown",
   "metadata": {},
   "source": [
    "## 1. Introduction to the Dataset"
   ]
  },
  {
   "cell_type": "markdown",
   "metadata": {},
   "source": [
    "This is an example of using PCA, k-means clustering and DBSCAN to first reduce the dimensionality of a wine quality dataset and then to assign the data into clusters. Dimensionality reduction and clustering can help us create a dataset for training a classification algorithm such as k nearest neighbours, which you will see next week.\n",
    "\n",
    "Adaped from https://pubs.acs.org/doi/10.1021/acs.jchemed.1c00142"
   ]
  },
  {
   "cell_type": "markdown",
   "metadata": {},
   "source": [
    "## Google Colab installs\n",
    "\n",
    "<div class=\"alert alert-warning\">\n",
    "The following cell installs necessary packages and downloads data if you are running this tutorial using Google Colab.<br>\n",
    "<b><i>Run this cell only if you are using Google Colab!</i></b></div>"
   ]
  },
  {
   "cell_type": "code",
   "execution_count": null,
   "metadata": {},
   "outputs": [],
   "source": [
    "!if [ -n \"$COLAB_RELEASE_TAG\" ]; then git clone https://github.com/Edinburgh-Chemistry-Teaching/ATCP_23_24; fi\n",
    "import os\n",
    "os.chdir(f\"ATCP_23_24{os.sep}Unit_01\")"
   ]
  },
  {
   "cell_type": "markdown",
   "metadata": {},
   "source": [
    "### 1.2. Loading the data"
   ]
  },
  {
   "cell_type": "code",
   "execution_count": null,
   "metadata": {},
   "outputs": [],
   "source": [
    "# Imports\n",
    "import glob\n",
    "import pandas as pd\n",
    "import numpy as np\n",
    "import matplotlib.pyplot as plt\n",
    "from sklearn import decomposition\n",
    "from sklearn import cluster\n",
    "import os\n",
    "import warnings\n",
    "warnings.filterwarnings(\"ignore\")"
   ]
  },
  {
   "cell_type": "code",
   "execution_count": null,
   "metadata": {},
   "outputs": [],
   "source": [
    "filename = \"wine_data.csv\"\n",
    "dataframe = pd.read_csv(filename)\n",
    "dataframe.head()"
   ]
  },
  {
   "cell_type": "markdown",
   "metadata": {
    "jp-MarkdownHeadingCollapsed": true
   },
   "source": []
  },
  {
   "cell_type": "markdown",
   "metadata": {},
   "source": [
    "### 1.3 Cleaning up and normalising the data\n",
    "\n",
    "First, we have to clean up the data frame slightly, because it contains information that we do not want to include in our PCA analysis; Namely, we need to drop the `quality` column as it is a categorical variable, and the `wine` column as that is our target variable for analysis and prediction.\n",
    "\n",
    "Furthermore, since the variables do not all have the same range, we need to normalise the data. The normalisation is carried out by subtracting the mean from the data and dividing it by the standard deviation, i.e.\n",
    "\n",
    "$$ Z = \\frac{\\mathbf{x} - \\mu}{\\sigma} $$\n",
    "\n",
    "where $\\mathbf{x}$ is the data. \n"
   ]
  },
  {
   "cell_type": "markdown",
   "metadata": {},
   "source": [
    "<div class=\"alert alert-success\">\n",
    "<b>Task:</b> Normalising the data\n",
    "\n",
    "- Create a new data frame, e.g. `clean_data` which does not contain the columns `quality` and `wine`.\n",
    "- Normalise the cleaned wine data and name the new data frame, e.g. `normalised_data`. "
   ]
  },
  {
   "cell_type": "code",
   "execution_count": null,
   "metadata": {},
   "outputs": [],
   "source": [
    "### Your solution here:\n"
   ]
  },
  {
   "cell_type": "markdown",
   "metadata": {},
   "source": [
    "<details>\n",
    "<summary> <mark> Solution: </mark> </summary>\n",
    "\n",
    "```Python\n",
    "\n",
    "clean_data = dataframe.drop(columns=[\"quality\", \"wine\"])\n",
    "mean = clean_data.mean()\n",
    "standard_deviation = clean_data.std()\n",
    "normalized_data = (clean_data - mean) / standard_deviation\n",
    "\n",
    "```\n",
    "\n",
    "</details>"
   ]
  },
  {
   "cell_type": "markdown",
   "metadata": {},
   "source": [
    "<div class=\"alert alert-success\">\n",
    "<b>Task:</b> Exploring the data\n",
    "\n",
    "- Plot different properties of the data frame to see how correlated they are.\n",
    "- Can you see any easy trends to identify red and white wine?"
   ]
  },
  {
   "cell_type": "code",
   "execution_count": null,
   "metadata": {},
   "outputs": [],
   "source": [
    "### Your solution here:\n",
    "\n"
   ]
  },
  {
   "cell_type": "markdown",
   "metadata": {},
   "source": [
    "<details>\n",
    "<summary> <mark> Solution: </mark> </summary>\n",
    "\n",
    "```Python\n",
    "\n",
    "target_column = 'residual sugar'\n",
    "\n",
    "# Create scatter plots for each column against the target column\n",
    "for column in clean_data.columns:\n",
    "    if column != target_column:\n",
    "        plt.figure(figsize=(6, 4))\n",
    "        plt.scatter(clean_data[target_column], clean_data[column])\n",
    "        plt.xlabel(target_column)\n",
    "        plt.ylabel(column)\n",
    "        plt.title(f'{column} vs. {target_column}')\n",
    "        plt.grid(True)\n",
    "        plt.show()\n",
    "\n",
    "```\n",
    "\n",
    "</details>"
   ]
  },
  {
   "cell_type": "markdown",
   "metadata": {},
   "source": [
    "### 1.4 Task section"
   ]
  },
  {
   "cell_type": "markdown",
   "metadata": {},
   "source": [
    "<div class=\"alert alert-success\">\n",
    "<b>Task 1: Principal components analysis of wine qualities </b>\n",
    "\n",
    "- Perform a PCA analysis of the normalised dataset using two components. What is the variance contribution of the components?\n",
    "- Plot the principal components, labelling your axes.\n",
    "- Are two components a good set of components? Which input features have the most contribution to these components?\n",
    "\n",
    "</div>"
   ]
  },
  {
   "cell_type": "code",
   "execution_count": null,
   "metadata": {},
   "outputs": [],
   "source": [
    "### Your solution here:\n",
    "\n",
    "# Performing the PCA\n",
    "\n",
    "\n",
    "# Plotting\n",
    "\n",
    "\n",
    "# Contribution of components\n"
   ]
  },
  {
   "cell_type": "markdown",
   "metadata": {},
   "source": [
    "<details>\n",
    "<summary> <mark> Solution to performing the PCA</mark> </summary>\n",
    "\n",
    "```Python\n",
    "pca = decomposition.PCA(n_components=2)\n",
    "pca_results = pca.fit_transform(normalised_data)\n",
    "print(pca.explained_variance_ratio_)\n",
    "\n",
    "fig, ax = plt.subplots()\n",
    "ax.scatter(pca_results[:, 0], pca_results[:, 1], c=dataframe[\"wine\"], edgecolor=\"k\") # COLOURING ACCORDING TO WINE\n",
    "ax.set_xlabel(\"PC 1\")\n",
    "ax.set_ylabel(\"PC 2\")\n",
    "```\n",
    "\n",
    "</details>"
   ]
  },
  {
   "cell_type": "markdown",
   "metadata": {},
   "source": [
    "<details>\n",
    "<summary> <mark> Solution to components contribution</mark> </summary>\n",
    "\n",
    "```Python\n",
    "\n",
    "# Access the component loadings\n",
    "loadings = pca.components_\n",
    "\n",
    "# Create a DataFrame to display the loadings\n",
    "loadings_df = pd.DataFrame(loadings, columns=clean_data.columns)\n",
    "\n",
    "# Display the loadings for each principal component\n",
    "for i in range(2):\n",
    "    print(f\"Loadings for PC{i + 1}:\\n{np.abs(loadings_df.iloc[i])}\")\n",
    "```\n",
    "\n",
    "</details>"
   ]
  },
  {
   "cell_type": "markdown",
   "metadata": {},
   "source": [
    "<div class=\"alert alert-success\">\n",
    "<b>Task 2: K-means analysis of wine qualities </b>\n",
    "\n",
    "- Perform a k-means analysis of the PCA results. How many clusters are there? \n",
    "- Plot the results, labelling your axes and marking the cluster centres. \n",
    "\n",
    "</div>"
   ]
  },
  {
   "cell_type": "code",
   "execution_count": null,
   "metadata": {},
   "outputs": [],
   "source": [
    "### Your solution here\n",
    "\n"
   ]
  },
  {
   "cell_type": "markdown",
   "metadata": {},
   "source": [
    "<details>\n",
    "<summary> <mark> Solution:</mark> </summary>\n",
    "\n",
    "```Python\n",
    "\n",
    "kmeans = cluster.KMeans(n_clusters=3) \n",
    "dataframe[\"cluster\"] = kmeans.fit(pca_results)\n",
    "\n",
    "fig, ax = plt.subplots()\n",
    "\n",
    "ax.scatter(pca_results[:, 0], pca_results[:, 1], s=5, linewidth=0, c=\"gray\", alpha=0.7)\n",
    "cluster_centers = kmeans.cluster_centers_\n",
    "\n",
    "for cluster_x, cluster_y in kmeans.cluster_centers_:\n",
    "    ax.scatter(cluster_x, cluster_y, s=100, c='r', marker='x')\n",
    "\n",
    "ax.set_xlabel(\"PC 1\")\n",
    "ax.set_ylabel(\"PC 2\")\n",
    "fig.show()\n",
    "```\n",
    "\n",
    "</details>"
   ]
  },
  {
   "cell_type": "markdown",
   "metadata": {},
   "source": [
    "<div class=\"alert alert-success\">\n",
    "<b>Task 3:  Try using DBSCAN to cluster this dataset.</b>\n",
    "\n",
    "- Perform the clustering\n",
    "- Is this a good way to distinguish between red and white wine?\n",
    "</div>\n"
   ]
  },
  {
   "cell_type": "code",
   "execution_count": null,
   "metadata": {},
   "outputs": [],
   "source": [
    "### Your solution here\n",
    "\n"
   ]
  },
  {
   "cell_type": "markdown",
   "metadata": {},
   "source": [
    "<details>\n",
    "<summary> <mark> Solution</mark> </summary>\n",
    "\n",
    "```Python\n",
    "db = cluster.DBSCAN(eps=0.5)\n",
    "db.fit(pca_results[::10])\n",
    "\n",
    "clusters = db.labels_.astype(int)\n",
    "no_clusters = len(np.unique(clusters) )\n",
    "no_noise = np.sum(np.array(clusters) == -1, axis=0)\n",
    "\n",
    "print(f'Estimated no. of clusters: {no_clusters}')\n",
    "print(f'Estimated no. of noise points: {no_noise}')\n",
    "    \n",
    "fig, ax = plt.subplots()\n",
    "ax.scatter(pca_results[::10,0], pca_results[::10,1], c=clusters, marker=\"o\", picker=True)\n",
    "ax.set_xlabel(\"PC 1\")\n",
    "ax.set_ylabel(\"PC 2\")\n",
    "\n",
    "```"
   ]
  },
  {
   "cell_type": "markdown",
   "metadata": {},
   "source": [
    "## END"
   ]
  },
  {
   "cell_type": "markdown",
   "metadata": {},
   "source": [
    "---"
   ]
  }
 ],
 "metadata": {
  "kernelspec": {
   "display_name": "Python 3 (ipykernel)",
   "language": "python",
   "name": "python3"
  },
  "language_info": {
   "codemirror_mode": {
    "name": "ipython",
    "version": 3
   },
   "file_extension": ".py",
   "mimetype": "text/x-python",
   "name": "python",
   "nbconvert_exporter": "python",
   "pygments_lexer": "ipython3",
   "version": "3.11.0"
  }
 },
 "nbformat": 4,
 "nbformat_minor": 4
}
